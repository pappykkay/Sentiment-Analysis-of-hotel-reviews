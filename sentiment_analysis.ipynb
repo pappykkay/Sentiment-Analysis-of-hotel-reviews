{
 "cells": [
  {
   "cell_type": "code",
   "execution_count": null,
   "metadata": {
    "id": "LGo1ojQf7vE9"
   },
   "outputs": [],
   "source": []
  },
  {
   "cell_type": "code",
   "execution_count": 211,
   "metadata": {
    "colab": {
     "base_uri": "https://localhost:8080/"
    },
    "id": "bmJys95t-dVS",
    "outputId": "fa57f5a9-5913-42e5-a997-801b76b2242a"
   },
   "outputs": [
    {
     "name": "stderr",
     "output_type": "stream",
     "text": [
      "[nltk_data] Downloading package stopwords to\n",
      "[nltk_data]     C:\\Users\\Admin\\AppData\\Roaming\\nltk_data...\n",
      "[nltk_data]   Package stopwords is already up-to-date!\n",
      "[nltk_data] Downloading package punkt to\n",
      "[nltk_data]     C:\\Users\\Admin\\AppData\\Roaming\\nltk_data...\n",
      "[nltk_data]   Package punkt is already up-to-date!\n",
      "[nltk_data] Downloading package wordnet to\n",
      "[nltk_data]     C:\\Users\\Admin\\AppData\\Roaming\\nltk_data...\n",
      "[nltk_data]   Package wordnet is already up-to-date!\n",
      "[nltk_data] Downloading package omw-1.4 to\n",
      "[nltk_data]     C:\\Users\\Admin\\AppData\\Roaming\\nltk_data...\n",
      "[nltk_data]   Package omw-1.4 is already up-to-date!\n",
      "[nltk_data] Downloading package vader_lexicon to\n",
      "[nltk_data]     C:\\Users\\Admin\\AppData\\Roaming\\nltk_data...\n",
      "[nltk_data]   Package vader_lexicon is already up-to-date!\n"
     ]
    }
   ],
   "source": [
    "import numpy as np\n",
    "import pandas as pd\n",
    "import matplotlib.pyplot as plt\n",
    "import re\n",
    "import seaborn as sns\n",
    "from wordcloud import WordCloud\n",
    "import nltk\n",
    "from nltk.tokenize import RegexpTokenizer, word_tokenize\n",
    "from nltk.probability import FreqDist\n",
    "nltk.download([\"stopwords\", \"punkt\", \"wordnet\", \"omw-1.4\",\"vader_lexicon\"])\n",
    "%matplotlib inline"
   ]
  },
  {
   "cell_type": "code",
   "execution_count": 212,
   "metadata": {
    "id": "sxuzuDg8A_QZ"
   },
   "outputs": [],
   "source": [
    "########################### read the dataset #########################################\n",
    "\n",
    "data =pd.read_csv(\"tourist_accommodation.txt\", sep = \"\\t\", encoding = \"windows-1252\")"
   ]
  },
  {
   "cell_type": "code",
   "execution_count": 213,
   "metadata": {
    "id": "tC4eP7qECcEh"
   },
   "outputs": [
    {
     "data": {
      "text/html": [
       "<div>\n",
       "<style scoped>\n",
       "    .dataframe tbody tr th:only-of-type {\n",
       "        vertical-align: middle;\n",
       "    }\n",
       "\n",
       "    .dataframe tbody tr th {\n",
       "        vertical-align: top;\n",
       "    }\n",
       "\n",
       "    .dataframe thead th {\n",
       "        text-align: right;\n",
       "    }\n",
       "</style>\n",
       "<table border=\"1\" class=\"dataframe\">\n",
       "  <thead>\n",
       "    <tr style=\"text-align: right;\">\n",
       "      <th></th>\n",
       "      <th>id</th>\n",
       "      <th>reviewed_date</th>\n",
       "      <th>location</th>\n",
       "      <th>hotel_restaurant_name</th>\n",
       "      <th>review</th>\n",
       "    </tr>\n",
       "  </thead>\n",
       "  <tbody>\n",
       "    <tr>\n",
       "      <th>0</th>\n",
       "      <td>rn581181959</td>\n",
       "      <td>Reviewed yesterday</td>\n",
       "      <td>Patong</td>\n",
       "      <td>3 Spices Restaurant</td>\n",
       "      <td>The food was average my other half ask for som...</td>\n",
       "    </tr>\n",
       "    <tr>\n",
       "      <th>1</th>\n",
       "      <td>rn580277719</td>\n",
       "      <td>Reviewed 6 days ago</td>\n",
       "      <td>Patong</td>\n",
       "      <td>3 Spices Restaurant</td>\n",
       "      <td>nice meal, cocktails were not great but standa...</td>\n",
       "    </tr>\n",
       "    <tr>\n",
       "      <th>2</th>\n",
       "      <td>rn574824190</td>\n",
       "      <td>Reviewed 4 weeks ago</td>\n",
       "      <td>Patong</td>\n",
       "      <td>3 Spices Restaurant</td>\n",
       "      <td>We tried a lot of different Thai resturants du...</td>\n",
       "    </tr>\n",
       "    <tr>\n",
       "      <th>3</th>\n",
       "      <td>rn570500865</td>\n",
       "      <td>Reviewed April 2, 2018</td>\n",
       "      <td>Patong</td>\n",
       "      <td>3 Spices Restaurant</td>\n",
       "      <td>The food is really nice, but the staff seem a ...</td>\n",
       "    </tr>\n",
       "    <tr>\n",
       "      <th>4</th>\n",
       "      <td>rn569846380</td>\n",
       "      <td>Reviewed March 31, 2018</td>\n",
       "      <td>Patong</td>\n",
       "      <td>3 Spices Restaurant</td>\n",
       "      <td>Probably one of the yummiest Thai I have ever ...</td>\n",
       "    </tr>\n",
       "  </tbody>\n",
       "</table>\n",
       "</div>"
      ],
      "text/plain": [
       "            id             reviewed_date location hotel_restaurant_name  \\\n",
       "0  rn581181959       Reviewed yesterday    Patong   3 Spices Restaurant   \n",
       "1  rn580277719      Reviewed 6 days ago    Patong   3 Spices Restaurant   \n",
       "2  rn574824190     Reviewed 4 weeks ago    Patong   3 Spices Restaurant   \n",
       "3  rn570500865   Reviewed April 2, 2018    Patong   3 Spices Restaurant   \n",
       "4  rn569846380  Reviewed March 31, 2018    Patong   3 Spices Restaurant   \n",
       "\n",
       "                                              review  \n",
       "0  The food was average my other half ask for som...  \n",
       "1  nice meal, cocktails were not great but standa...  \n",
       "2  We tried a lot of different Thai resturants du...  \n",
       "3  The food is really nice, but the staff seem a ...  \n",
       "4  Probably one of the yummiest Thai I have ever ...  "
      ]
     },
     "execution_count": 213,
     "metadata": {},
     "output_type": "execute_result"
    }
   ],
   "source": [
    "########################## data previous  #############################################\n",
    "\n",
    "data.head()"
   ]
  },
  {
   "cell_type": "code",
   "execution_count": 214,
   "metadata": {
    "id": "2ipPC6TYRkBm"
   },
   "outputs": [
    {
     "name": "stdout",
     "output_type": "stream",
     "text": [
      "<class 'pandas.core.frame.DataFrame'>\n",
      "RangeIndex: 2949 entries, 0 to 2948\n",
      "Data columns (total 5 columns):\n",
      " #   Column                 Non-Null Count  Dtype \n",
      "---  ------                 --------------  ----- \n",
      " 0   id                     2949 non-null   object\n",
      " 1   reviewed_date          2949 non-null   object\n",
      " 2   location               2949 non-null   object\n",
      " 3   hotel_restaurant_name  2949 non-null   object\n",
      " 4   review                 2949 non-null   object\n",
      "dtypes: object(5)\n",
      "memory usage: 115.3+ KB\n"
     ]
    }
   ],
   "source": [
    "data.info()"
   ]
  },
  {
   "cell_type": "code",
   "execution_count": 215,
   "metadata": {
    "id": "KWn5I5m5Jk9z"
   },
   "outputs": [
    {
     "data": {
      "text/html": [
       "<div>\n",
       "<style scoped>\n",
       "    .dataframe tbody tr th:only-of-type {\n",
       "        vertical-align: middle;\n",
       "    }\n",
       "\n",
       "    .dataframe tbody tr th {\n",
       "        vertical-align: top;\n",
       "    }\n",
       "\n",
       "    .dataframe thead th {\n",
       "        text-align: right;\n",
       "    }\n",
       "</style>\n",
       "<table border=\"1\" class=\"dataframe\">\n",
       "  <thead>\n",
       "    <tr style=\"text-align: right;\">\n",
       "      <th></th>\n",
       "      <th>id</th>\n",
       "      <th>reviewed_date</th>\n",
       "      <th>location</th>\n",
       "      <th>hotel_restaurant_name</th>\n",
       "      <th>review</th>\n",
       "    </tr>\n",
       "  </thead>\n",
       "  <tbody>\n",
       "    <tr>\n",
       "      <th>count</th>\n",
       "      <td>2949</td>\n",
       "      <td>2949</td>\n",
       "      <td>2949</td>\n",
       "      <td>2949</td>\n",
       "      <td>2949</td>\n",
       "    </tr>\n",
       "    <tr>\n",
       "      <th>unique</th>\n",
       "      <td>2488</td>\n",
       "      <td>1108</td>\n",
       "      <td>1</td>\n",
       "      <td>29</td>\n",
       "      <td>2488</td>\n",
       "    </tr>\n",
       "    <tr>\n",
       "      <th>top</th>\n",
       "      <td>rn292481886</td>\n",
       "      <td>Reviewed 1 week ago</td>\n",
       "      <td>Patong</td>\n",
       "      <td>Da Mario</td>\n",
       "      <td>Being low season, most of the restaurants are ...</td>\n",
       "    </tr>\n",
       "    <tr>\n",
       "      <th>freq</th>\n",
       "      <td>10</td>\n",
       "      <td>31</td>\n",
       "      <td>2949</td>\n",
       "      <td>187</td>\n",
       "      <td>10</td>\n",
       "    </tr>\n",
       "  </tbody>\n",
       "</table>\n",
       "</div>"
      ],
      "text/plain": [
       "                 id         reviewed_date location hotel_restaurant_name  \\\n",
       "count          2949                  2949     2949                  2949   \n",
       "unique         2488                  1108        1                    29   \n",
       "top     rn292481886  Reviewed 1 week ago    Patong              Da Mario   \n",
       "freq             10                    31     2949                   187   \n",
       "\n",
       "                                                   review  \n",
       "count                                                2949  \n",
       "unique                                               2488  \n",
       "top     Being low season, most of the restaurants are ...  \n",
       "freq                                                   10  "
      ]
     },
     "execution_count": 215,
     "metadata": {},
     "output_type": "execute_result"
    }
   ],
   "source": [
    "data.describe()"
   ]
  },
  {
   "cell_type": "code",
   "execution_count": 216,
   "metadata": {
    "colab": {
     "base_uri": "https://localhost:8080/",
     "height": 337
    },
    "id": "rw34TCrtQX3u",
    "outputId": "5f00a1a9-947f-4c5f-ee20-6f2de3e0647c"
   },
   "outputs": [
    {
     "data": {
      "text/plain": [
       "(2949, 5)"
      ]
     },
     "execution_count": 216,
     "metadata": {},
     "output_type": "execute_result"
    }
   ],
   "source": [
    "data.shape"
   ]
  },
  {
   "cell_type": "code",
   "execution_count": 217,
   "metadata": {
    "colab": {
     "base_uri": "https://localhost:8080/"
    },
    "id": "AgX9PC0FQxPh",
    "outputId": "5fceff5e-afe2-4522-fba9-80f1e6dbf3cc"
   },
   "outputs": [
    {
     "name": "stdout",
     "output_type": "stream",
     "text": [
      "\n",
      " All Data Labels\n",
      "            id  reviewed_date  hotel_restaurant_name  review\n",
      "location                                                    \n",
      " Patong   2949           2949                   2949    2949\n"
     ]
    }
   ],
   "source": [
    "print(\"\\n All Data Labels\")\n",
    "print(data.groupby(\"location\").count())"
   ]
  },
  {
   "cell_type": "code",
   "execution_count": 218,
   "metadata": {
    "colab": {
     "base_uri": "https://localhost:8080/"
    },
    "id": "l2JtuwFZQ4k5",
    "outputId": "6f77413e-bdd6-4837-8706-01e540a4db3d"
   },
   "outputs": [
    {
     "name": "stdout",
     "output_type": "stream",
     "text": [
      "<class 'pandas.core.series.Series'>\n"
     ]
    }
   ],
   "source": [
    "######### converting the review column to string type ########################\n",
    "\n",
    "data[\"review\"] = data[\"review\"].astype(str).str.lower()\n",
    "print(type(data[\"review\"]))"
   ]
  },
  {
   "cell_type": "code",
   "execution_count": 221,
   "metadata": {
    "id": "MFFtKdVLfXPk"
   },
   "outputs": [],
   "source": [
    "######### defining regular expressions ######################################\n",
    "\n",
    "regexp = RegexpTokenizer(\"[a-zA-Z0-9\\']+\")"
   ]
  },
  {
   "cell_type": "code",
   "execution_count": 252,
   "metadata": {
    "id": "SxXGAjTAgQHX"
   },
   "outputs": [
    {
     "data": {
      "text/html": [
       "<div>\n",
       "<style scoped>\n",
       "    .dataframe tbody tr th:only-of-type {\n",
       "        vertical-align: middle;\n",
       "    }\n",
       "\n",
       "    .dataframe tbody tr th {\n",
       "        vertical-align: top;\n",
       "    }\n",
       "\n",
       "    .dataframe thead th {\n",
       "        text-align: right;\n",
       "    }\n",
       "</style>\n",
       "<table border=\"1\" class=\"dataframe\">\n",
       "  <thead>\n",
       "    <tr style=\"text-align: right;\">\n",
       "      <th></th>\n",
       "      <th>id</th>\n",
       "      <th>reviewed_date</th>\n",
       "      <th>location</th>\n",
       "      <th>hotel_restaurant_name</th>\n",
       "      <th>review</th>\n",
       "      <th>tokenized_review</th>\n",
       "      <th>tokenized_string</th>\n",
       "      <th>tokenized_string_lemma</th>\n",
       "      <th>token_polarity_review</th>\n",
       "      <th>compound</th>\n",
       "      <th>neg</th>\n",
       "      <th>neu</th>\n",
       "      <th>pos</th>\n",
       "    </tr>\n",
       "  </thead>\n",
       "  <tbody>\n",
       "    <tr>\n",
       "      <th>0</th>\n",
       "      <td>rn581181959</td>\n",
       "      <td>Reviewed yesterday</td>\n",
       "      <td>Patong</td>\n",
       "      <td>3 Spices Restaurant</td>\n",
       "      <td>the food was average my other half ask for som...</td>\n",
       "      <td>[the, food, was, average, my, other, half, ask...</td>\n",
       "      <td>food average half ask something mild brought s...</td>\n",
       "      <td>food average half ask something mild brought s...</td>\n",
       "      <td>{'neg': 0.0, 'neu': 0.797, 'pos': 0.203, 'comp...</td>\n",
       "      <td>0.4215</td>\n",
       "      <td>0.000</td>\n",
       "      <td>0.797</td>\n",
       "      <td>0.203</td>\n",
       "    </tr>\n",
       "    <tr>\n",
       "      <th>1</th>\n",
       "      <td>rn580277719</td>\n",
       "      <td>Reviewed 6 days ago</td>\n",
       "      <td>Patong</td>\n",
       "      <td>3 Spices Restaurant</td>\n",
       "      <td>nice meal, cocktails were not great but standa...</td>\n",
       "      <td>[nice, meal, cocktails, were, not, great, but,...</td>\n",
       "      <td>nice meal cocktails great standard food excell...</td>\n",
       "      <td>nice meal cocktails great standard food excell...</td>\n",
       "      <td>{'neg': 0.0, 'neu': 0.242, 'pos': 0.758, 'comp...</td>\n",
       "      <td>0.9571</td>\n",
       "      <td>0.000</td>\n",
       "      <td>0.242</td>\n",
       "      <td>0.758</td>\n",
       "    </tr>\n",
       "    <tr>\n",
       "      <th>2</th>\n",
       "      <td>rn574824190</td>\n",
       "      <td>Reviewed 4 weeks ago</td>\n",
       "      <td>Patong</td>\n",
       "      <td>3 Spices Restaurant</td>\n",
       "      <td>we tried a lot of different thai resturants du...</td>\n",
       "      <td>[we, tried, a, lot, of, different, thai, restu...</td>\n",
       "      <td>tried lot different thai resturants stay hands...</td>\n",
       "      <td>tried lot different thai resturants stay hands...</td>\n",
       "      <td>{'neg': 0.0, 'neu': 0.558, 'pos': 0.442, 'comp...</td>\n",
       "      <td>0.8834</td>\n",
       "      <td>0.000</td>\n",
       "      <td>0.558</td>\n",
       "      <td>0.442</td>\n",
       "    </tr>\n",
       "    <tr>\n",
       "      <th>3</th>\n",
       "      <td>rn570500865</td>\n",
       "      <td>Reviewed April 2, 2018</td>\n",
       "      <td>Patong</td>\n",
       "      <td>3 Spices Restaurant</td>\n",
       "      <td>the food is really nice, but the staff seem a ...</td>\n",
       "      <td>[the, food, is, really, nice, but, the, staff,...</td>\n",
       "      <td>food really nice staff seem bit stressed seems...</td>\n",
       "      <td>food really nice staff seem bit stressed seems...</td>\n",
       "      <td>{'neg': 0.108, 'neu': 0.404, 'pos': 0.489, 'co...</td>\n",
       "      <td>0.8173</td>\n",
       "      <td>0.108</td>\n",
       "      <td>0.404</td>\n",
       "      <td>0.489</td>\n",
       "    </tr>\n",
       "    <tr>\n",
       "      <th>4</th>\n",
       "      <td>rn569846380</td>\n",
       "      <td>Reviewed March 31, 2018</td>\n",
       "      <td>Patong</td>\n",
       "      <td>3 Spices Restaurant</td>\n",
       "      <td>probably one of the yummiest thai i have ever ...</td>\n",
       "      <td>[probably, one, of, the, yummiest, thai, i, ha...</td>\n",
       "      <td>probably one yummiest thai ever food tasty pri...</td>\n",
       "      <td>probably one yummiest thai ever food tasty pri...</td>\n",
       "      <td>{'neg': 0.0, 'neu': 0.748, 'pos': 0.252, 'comp...</td>\n",
       "      <td>0.5719</td>\n",
       "      <td>0.000</td>\n",
       "      <td>0.748</td>\n",
       "      <td>0.252</td>\n",
       "    </tr>\n",
       "  </tbody>\n",
       "</table>\n",
       "</div>"
      ],
      "text/plain": [
       "            id             reviewed_date location hotel_restaurant_name  \\\n",
       "0  rn581181959       Reviewed yesterday    Patong   3 Spices Restaurant   \n",
       "1  rn580277719      Reviewed 6 days ago    Patong   3 Spices Restaurant   \n",
       "2  rn574824190     Reviewed 4 weeks ago    Patong   3 Spices Restaurant   \n",
       "3  rn570500865   Reviewed April 2, 2018    Patong   3 Spices Restaurant   \n",
       "4  rn569846380  Reviewed March 31, 2018    Patong   3 Spices Restaurant   \n",
       "\n",
       "                                              review  \\\n",
       "0  the food was average my other half ask for som...   \n",
       "1  nice meal, cocktails were not great but standa...   \n",
       "2  we tried a lot of different thai resturants du...   \n",
       "3  the food is really nice, but the staff seem a ...   \n",
       "4  probably one of the yummiest thai i have ever ...   \n",
       "\n",
       "                                    tokenized_review  \\\n",
       "0  [the, food, was, average, my, other, half, ask...   \n",
       "1  [nice, meal, cocktails, were, not, great, but,...   \n",
       "2  [we, tried, a, lot, of, different, thai, restu...   \n",
       "3  [the, food, is, really, nice, but, the, staff,...   \n",
       "4  [probably, one, of, the, yummiest, thai, i, ha...   \n",
       "\n",
       "                                    tokenized_string  \\\n",
       "0  food average half ask something mild brought s...   \n",
       "1  nice meal cocktails great standard food excell...   \n",
       "2  tried lot different thai resturants stay hands...   \n",
       "3  food really nice staff seem bit stressed seems...   \n",
       "4  probably one yummiest thai ever food tasty pri...   \n",
       "\n",
       "                              tokenized_string_lemma  \\\n",
       "0  food average half ask something mild brought s...   \n",
       "1  nice meal cocktails great standard food excell...   \n",
       "2  tried lot different thai resturants stay hands...   \n",
       "3  food really nice staff seem bit stressed seems...   \n",
       "4  probably one yummiest thai ever food tasty pri...   \n",
       "\n",
       "                               token_polarity_review  compound    neg    neu  \\\n",
       "0  {'neg': 0.0, 'neu': 0.797, 'pos': 0.203, 'comp...    0.4215  0.000  0.797   \n",
       "1  {'neg': 0.0, 'neu': 0.242, 'pos': 0.758, 'comp...    0.9571  0.000  0.242   \n",
       "2  {'neg': 0.0, 'neu': 0.558, 'pos': 0.442, 'comp...    0.8834  0.000  0.558   \n",
       "3  {'neg': 0.108, 'neu': 0.404, 'pos': 0.489, 'co...    0.8173  0.108  0.404   \n",
       "4  {'neg': 0.0, 'neu': 0.748, 'pos': 0.252, 'comp...    0.5719  0.000  0.748   \n",
       "\n",
       "     pos  \n",
       "0  0.203  \n",
       "1  0.758  \n",
       "2  0.442  \n",
       "3  0.489  \n",
       "4  0.252  "
      ]
     },
     "execution_count": 252,
     "metadata": {},
     "output_type": "execute_result"
    }
   ],
   "source": [
    "######### apply regexp to review column  ####################################\n",
    "\n",
    "data[\"tokenized_review\"] = data[\"review\"].apply(regexp.tokenize)\n",
    "data.head()"
   ]
  },
  {
   "cell_type": "code",
   "execution_count": 249,
   "metadata": {
    "id": "7AmzENvmZgvu"
   },
   "outputs": [
    {
     "name": "stdout",
     "output_type": "stream",
     "text": [
      "['i', 'me', 'my', 'myself', 'we', 'our', 'ours', 'ourselves', 'you', \"you're\", \"you've\", \"you'll\", \"you'd\", 'your', 'yours', 'yourself', 'yourselves', 'he', 'him', 'his', 'himself', 'she', \"she's\", 'her', 'hers', 'herself', 'it', \"it's\", 'its', 'itself', 'they', 'them', 'their', 'theirs', 'themselves', 'what', 'which', 'who', 'whom', 'this', 'that', \"that'll\", 'these', 'those', 'am', 'is', 'are', 'was', 'were', 'be', 'been', 'being', 'have', 'has', 'had', 'having', 'do', 'does', 'did', 'doing', 'a', 'an', 'the', 'and', 'but', 'if', 'or', 'because', 'as', 'until', 'while', 'of', 'at', 'by', 'for', 'with', 'about', 'against', 'between', 'into', 'through', 'during', 'before', 'after', 'above', 'below', 'to', 'from', 'up', 'down', 'in', 'out', 'on', 'off', 'over', 'under', 'again', 'further', 'then', 'once', 'here', 'there', 'when', 'where', 'why', 'how', 'all', 'any', 'both', 'each', 'few', 'more', 'most', 'other', 'some', 'such', 'no', 'nor', 'not', 'only', 'own', 'same', 'so', 'than', 'too', 'very', 's', 't', 'can', 'will', 'just', 'don', \"don't\", 'should', \"should've\", 'now', 'd', 'll', 'm', 'o', 're', 've', 'y', 'ain', 'aren', \"aren't\", 'couldn', \"couldn't\", 'didn', \"didn't\", 'doesn', \"doesn't\", 'hadn', \"hadn't\", 'hasn', \"hasn't\", 'haven', \"haven't\", 'isn', \"isn't\", 'ma', 'mightn', \"mightn't\", 'mustn', \"mustn't\", 'needn', \"needn't\", 'shan', \"shan't\", 'shouldn', \"shouldn't\", 'wasn', \"wasn't\", 'weren', \"weren't\", 'won', \"won't\", 'wouldn', \"wouldn't\"]\n"
     ]
    }
   ],
   "source": [
    "######### to define and print stop words  ###############################\n",
    "\n",
    "from nltk.corpus import stopwords\n",
    "stop_words = nltk.corpus.stopwords.words(\"english\")\n",
    "print(stop_words)"
   ]
  },
  {
   "cell_type": "code",
   "execution_count": 250,
   "metadata": {
    "id": "XxTgMKlMWT-w"
   },
   "outputs": [
    {
     "data": {
      "text/html": [
       "<div>\n",
       "<style scoped>\n",
       "    .dataframe tbody tr th:only-of-type {\n",
       "        vertical-align: middle;\n",
       "    }\n",
       "\n",
       "    .dataframe tbody tr th {\n",
       "        vertical-align: top;\n",
       "    }\n",
       "\n",
       "    .dataframe thead th {\n",
       "        text-align: right;\n",
       "    }\n",
       "</style>\n",
       "<table border=\"1\" class=\"dataframe\">\n",
       "  <thead>\n",
       "    <tr style=\"text-align: right;\">\n",
       "      <th></th>\n",
       "      <th>id</th>\n",
       "      <th>reviewed_date</th>\n",
       "      <th>location</th>\n",
       "      <th>hotel_restaurant_name</th>\n",
       "      <th>review</th>\n",
       "      <th>tokenized_review</th>\n",
       "      <th>tokenized_string</th>\n",
       "      <th>tokenized_string_lemma</th>\n",
       "      <th>token_polarity_review</th>\n",
       "      <th>compound</th>\n",
       "      <th>neg</th>\n",
       "      <th>neu</th>\n",
       "      <th>pos</th>\n",
       "    </tr>\n",
       "  </thead>\n",
       "  <tbody>\n",
       "    <tr>\n",
       "      <th>0</th>\n",
       "      <td>rn581181959</td>\n",
       "      <td>Reviewed yesterday</td>\n",
       "      <td>Patong</td>\n",
       "      <td>3 Spices Restaurant</td>\n",
       "      <td>the food was average my other half ask for som...</td>\n",
       "      <td>[food, average, half, ask, something, mild, br...</td>\n",
       "      <td>food average half ask something mild brought s...</td>\n",
       "      <td>food average half ask something mild brought s...</td>\n",
       "      <td>{'neg': 0.0, 'neu': 0.797, 'pos': 0.203, 'comp...</td>\n",
       "      <td>0.4215</td>\n",
       "      <td>0.000</td>\n",
       "      <td>0.797</td>\n",
       "      <td>0.203</td>\n",
       "    </tr>\n",
       "    <tr>\n",
       "      <th>1</th>\n",
       "      <td>rn580277719</td>\n",
       "      <td>Reviewed 6 days ago</td>\n",
       "      <td>Patong</td>\n",
       "      <td>3 Spices Restaurant</td>\n",
       "      <td>nice meal, cocktails were not great but standa...</td>\n",
       "      <td>[nice, meal, cocktails, great, standard, food,...</td>\n",
       "      <td>nice meal cocktails great standard food excell...</td>\n",
       "      <td>nice meal cocktails great standard food excell...</td>\n",
       "      <td>{'neg': 0.0, 'neu': 0.242, 'pos': 0.758, 'comp...</td>\n",
       "      <td>0.9571</td>\n",
       "      <td>0.000</td>\n",
       "      <td>0.242</td>\n",
       "      <td>0.758</td>\n",
       "    </tr>\n",
       "    <tr>\n",
       "      <th>2</th>\n",
       "      <td>rn574824190</td>\n",
       "      <td>Reviewed 4 weeks ago</td>\n",
       "      <td>Patong</td>\n",
       "      <td>3 Spices Restaurant</td>\n",
       "      <td>we tried a lot of different thai resturants du...</td>\n",
       "      <td>[tried, lot, different, thai, resturants, stay...</td>\n",
       "      <td>tried lot different thai resturants stay hands...</td>\n",
       "      <td>tried lot different thai resturants stay hands...</td>\n",
       "      <td>{'neg': 0.0, 'neu': 0.558, 'pos': 0.442, 'comp...</td>\n",
       "      <td>0.8834</td>\n",
       "      <td>0.000</td>\n",
       "      <td>0.558</td>\n",
       "      <td>0.442</td>\n",
       "    </tr>\n",
       "    <tr>\n",
       "      <th>3</th>\n",
       "      <td>rn570500865</td>\n",
       "      <td>Reviewed April 2, 2018</td>\n",
       "      <td>Patong</td>\n",
       "      <td>3 Spices Restaurant</td>\n",
       "      <td>the food is really nice, but the staff seem a ...</td>\n",
       "      <td>[food, really, nice, staff, seem, bit, stresse...</td>\n",
       "      <td>food really nice staff seem bit stressed seems...</td>\n",
       "      <td>food really nice staff seem bit stressed seems...</td>\n",
       "      <td>{'neg': 0.108, 'neu': 0.404, 'pos': 0.489, 'co...</td>\n",
       "      <td>0.8173</td>\n",
       "      <td>0.108</td>\n",
       "      <td>0.404</td>\n",
       "      <td>0.489</td>\n",
       "    </tr>\n",
       "    <tr>\n",
       "      <th>4</th>\n",
       "      <td>rn569846380</td>\n",
       "      <td>Reviewed March 31, 2018</td>\n",
       "      <td>Patong</td>\n",
       "      <td>3 Spices Restaurant</td>\n",
       "      <td>probably one of the yummiest thai i have ever ...</td>\n",
       "      <td>[probably, one, yummiest, thai, ever, food, ta...</td>\n",
       "      <td>probably one yummiest thai ever food tasty pri...</td>\n",
       "      <td>probably one yummiest thai ever food tasty pri...</td>\n",
       "      <td>{'neg': 0.0, 'neu': 0.748, 'pos': 0.252, 'comp...</td>\n",
       "      <td>0.5719</td>\n",
       "      <td>0.000</td>\n",
       "      <td>0.748</td>\n",
       "      <td>0.252</td>\n",
       "    </tr>\n",
       "  </tbody>\n",
       "</table>\n",
       "</div>"
      ],
      "text/plain": [
       "            id             reviewed_date location hotel_restaurant_name  \\\n",
       "0  rn581181959       Reviewed yesterday    Patong   3 Spices Restaurant   \n",
       "1  rn580277719      Reviewed 6 days ago    Patong   3 Spices Restaurant   \n",
       "2  rn574824190     Reviewed 4 weeks ago    Patong   3 Spices Restaurant   \n",
       "3  rn570500865   Reviewed April 2, 2018    Patong   3 Spices Restaurant   \n",
       "4  rn569846380  Reviewed March 31, 2018    Patong   3 Spices Restaurant   \n",
       "\n",
       "                                              review  \\\n",
       "0  the food was average my other half ask for som...   \n",
       "1  nice meal, cocktails were not great but standa...   \n",
       "2  we tried a lot of different thai resturants du...   \n",
       "3  the food is really nice, but the staff seem a ...   \n",
       "4  probably one of the yummiest thai i have ever ...   \n",
       "\n",
       "                                    tokenized_review  \\\n",
       "0  [food, average, half, ask, something, mild, br...   \n",
       "1  [nice, meal, cocktails, great, standard, food,...   \n",
       "2  [tried, lot, different, thai, resturants, stay...   \n",
       "3  [food, really, nice, staff, seem, bit, stresse...   \n",
       "4  [probably, one, yummiest, thai, ever, food, ta...   \n",
       "\n",
       "                                    tokenized_string  \\\n",
       "0  food average half ask something mild brought s...   \n",
       "1  nice meal cocktails great standard food excell...   \n",
       "2  tried lot different thai resturants stay hands...   \n",
       "3  food really nice staff seem bit stressed seems...   \n",
       "4  probably one yummiest thai ever food tasty pri...   \n",
       "\n",
       "                              tokenized_string_lemma  \\\n",
       "0  food average half ask something mild brought s...   \n",
       "1  nice meal cocktails great standard food excell...   \n",
       "2  tried lot different thai resturants stay hands...   \n",
       "3  food really nice staff seem bit stressed seems...   \n",
       "4  probably one yummiest thai ever food tasty pri...   \n",
       "\n",
       "                               token_polarity_review  compound    neg    neu  \\\n",
       "0  {'neg': 0.0, 'neu': 0.797, 'pos': 0.203, 'comp...    0.4215  0.000  0.797   \n",
       "1  {'neg': 0.0, 'neu': 0.242, 'pos': 0.758, 'comp...    0.9571  0.000  0.242   \n",
       "2  {'neg': 0.0, 'neu': 0.558, 'pos': 0.442, 'comp...    0.8834  0.000  0.558   \n",
       "3  {'neg': 0.108, 'neu': 0.404, 'pos': 0.489, 'co...    0.8173  0.108  0.404   \n",
       "4  {'neg': 0.0, 'neu': 0.748, 'pos': 0.252, 'comp...    0.5719  0.000  0.748   \n",
       "\n",
       "     pos  \n",
       "0  0.203  \n",
       "1  0.758  \n",
       "2  0.442  \n",
       "3  0.489  \n",
       "4  0.252  "
      ]
     },
     "execution_count": 250,
     "metadata": {},
     "output_type": "execute_result"
    }
   ],
   "source": [
    "########### to apply stop words to review column #############################\n",
    "\n",
    "data[\"tokenized_review\"] = data[\"tokenized_review\"].apply(lambda x: [item for item in x if item not in stop_words])\n",
    "data.head()"
   ]
  },
  {
   "cell_type": "code",
   "execution_count": 253,
   "metadata": {
    "id": "R4NBKNPXlmnT"
   },
   "outputs": [
    {
     "data": {
      "text/html": [
       "<div>\n",
       "<style scoped>\n",
       "    .dataframe tbody tr th:only-of-type {\n",
       "        vertical-align: middle;\n",
       "    }\n",
       "\n",
       "    .dataframe tbody tr th {\n",
       "        vertical-align: top;\n",
       "    }\n",
       "\n",
       "    .dataframe thead th {\n",
       "        text-align: right;\n",
       "    }\n",
       "</style>\n",
       "<table border=\"1\" class=\"dataframe\">\n",
       "  <thead>\n",
       "    <tr style=\"text-align: right;\">\n",
       "      <th></th>\n",
       "      <th>id</th>\n",
       "      <th>reviewed_date</th>\n",
       "      <th>location</th>\n",
       "      <th>hotel_restaurant_name</th>\n",
       "      <th>review</th>\n",
       "      <th>tokenized_review</th>\n",
       "      <th>tokenized_string</th>\n",
       "      <th>tokenized_string_lemma</th>\n",
       "      <th>token_polarity_review</th>\n",
       "      <th>compound</th>\n",
       "      <th>neg</th>\n",
       "      <th>neu</th>\n",
       "      <th>pos</th>\n",
       "    </tr>\n",
       "  </thead>\n",
       "  <tbody>\n",
       "    <tr>\n",
       "      <th>0</th>\n",
       "      <td>rn581181959</td>\n",
       "      <td>Reviewed yesterday</td>\n",
       "      <td>Patong</td>\n",
       "      <td>3 Spices Restaurant</td>\n",
       "      <td>the food was average my other half ask for som...</td>\n",
       "      <td>[the, food, was, average, my, other, half, ask...</td>\n",
       "      <td>the food was average other half ask for someth...</td>\n",
       "      <td>food average half ask something mild brought s...</td>\n",
       "      <td>{'neg': 0.0, 'neu': 0.797, 'pos': 0.203, 'comp...</td>\n",
       "      <td>0.4215</td>\n",
       "      <td>0.000</td>\n",
       "      <td>0.797</td>\n",
       "      <td>0.203</td>\n",
       "    </tr>\n",
       "    <tr>\n",
       "      <th>1</th>\n",
       "      <td>rn580277719</td>\n",
       "      <td>Reviewed 6 days ago</td>\n",
       "      <td>Patong</td>\n",
       "      <td>3 Spices Restaurant</td>\n",
       "      <td>nice meal, cocktails were not great but standa...</td>\n",
       "      <td>[nice, meal, cocktails, were, not, great, but,...</td>\n",
       "      <td>nice meal cocktails were not great but standar...</td>\n",
       "      <td>nice meal cocktails great standard food excell...</td>\n",
       "      <td>{'neg': 0.0, 'neu': 0.242, 'pos': 0.758, 'comp...</td>\n",
       "      <td>0.9571</td>\n",
       "      <td>0.000</td>\n",
       "      <td>0.242</td>\n",
       "      <td>0.758</td>\n",
       "    </tr>\n",
       "    <tr>\n",
       "      <th>2</th>\n",
       "      <td>rn574824190</td>\n",
       "      <td>Reviewed 4 weeks ago</td>\n",
       "      <td>Patong</td>\n",
       "      <td>3 Spices Restaurant</td>\n",
       "      <td>we tried a lot of different thai resturants du...</td>\n",
       "      <td>[we, tried, a, lot, of, different, thai, restu...</td>\n",
       "      <td>tried lot different thai resturants during our...</td>\n",
       "      <td>tried lot different thai resturants stay hands...</td>\n",
       "      <td>{'neg': 0.0, 'neu': 0.558, 'pos': 0.442, 'comp...</td>\n",
       "      <td>0.8834</td>\n",
       "      <td>0.000</td>\n",
       "      <td>0.558</td>\n",
       "      <td>0.442</td>\n",
       "    </tr>\n",
       "    <tr>\n",
       "      <th>3</th>\n",
       "      <td>rn570500865</td>\n",
       "      <td>Reviewed April 2, 2018</td>\n",
       "      <td>Patong</td>\n",
       "      <td>3 Spices Restaurant</td>\n",
       "      <td>the food is really nice, but the staff seem a ...</td>\n",
       "      <td>[the, food, is, really, nice, but, the, staff,...</td>\n",
       "      <td>the food really nice but the staff seem bit st...</td>\n",
       "      <td>food really nice staff seem bit stressed seems...</td>\n",
       "      <td>{'neg': 0.108, 'neu': 0.404, 'pos': 0.489, 'co...</td>\n",
       "      <td>0.8173</td>\n",
       "      <td>0.108</td>\n",
       "      <td>0.404</td>\n",
       "      <td>0.489</td>\n",
       "    </tr>\n",
       "    <tr>\n",
       "      <th>4</th>\n",
       "      <td>rn569846380</td>\n",
       "      <td>Reviewed March 31, 2018</td>\n",
       "      <td>Patong</td>\n",
       "      <td>3 Spices Restaurant</td>\n",
       "      <td>probably one of the yummiest thai i have ever ...</td>\n",
       "      <td>[probably, one, of, the, yummiest, thai, i, ha...</td>\n",
       "      <td>probably one the yummiest thai have ever had f...</td>\n",
       "      <td>probably one yummiest thai ever food tasty pri...</td>\n",
       "      <td>{'neg': 0.0, 'neu': 0.748, 'pos': 0.252, 'comp...</td>\n",
       "      <td>0.5719</td>\n",
       "      <td>0.000</td>\n",
       "      <td>0.748</td>\n",
       "      <td>0.252</td>\n",
       "    </tr>\n",
       "  </tbody>\n",
       "</table>\n",
       "</div>"
      ],
      "text/plain": [
       "            id             reviewed_date location hotel_restaurant_name  \\\n",
       "0  rn581181959       Reviewed yesterday    Patong   3 Spices Restaurant   \n",
       "1  rn580277719      Reviewed 6 days ago    Patong   3 Spices Restaurant   \n",
       "2  rn574824190     Reviewed 4 weeks ago    Patong   3 Spices Restaurant   \n",
       "3  rn570500865   Reviewed April 2, 2018    Patong   3 Spices Restaurant   \n",
       "4  rn569846380  Reviewed March 31, 2018    Patong   3 Spices Restaurant   \n",
       "\n",
       "                                              review  \\\n",
       "0  the food was average my other half ask for som...   \n",
       "1  nice meal, cocktails were not great but standa...   \n",
       "2  we tried a lot of different thai resturants du...   \n",
       "3  the food is really nice, but the staff seem a ...   \n",
       "4  probably one of the yummiest thai i have ever ...   \n",
       "\n",
       "                                    tokenized_review  \\\n",
       "0  [the, food, was, average, my, other, half, ask...   \n",
       "1  [nice, meal, cocktails, were, not, great, but,...   \n",
       "2  [we, tried, a, lot, of, different, thai, restu...   \n",
       "3  [the, food, is, really, nice, but, the, staff,...   \n",
       "4  [probably, one, of, the, yummiest, thai, i, ha...   \n",
       "\n",
       "                                    tokenized_string  \\\n",
       "0  the food was average other half ask for someth...   \n",
       "1  nice meal cocktails were not great but standar...   \n",
       "2  tried lot different thai resturants during our...   \n",
       "3  the food really nice but the staff seem bit st...   \n",
       "4  probably one the yummiest thai have ever had f...   \n",
       "\n",
       "                              tokenized_string_lemma  \\\n",
       "0  food average half ask something mild brought s...   \n",
       "1  nice meal cocktails great standard food excell...   \n",
       "2  tried lot different thai resturants stay hands...   \n",
       "3  food really nice staff seem bit stressed seems...   \n",
       "4  probably one yummiest thai ever food tasty pri...   \n",
       "\n",
       "                               token_polarity_review  compound    neg    neu  \\\n",
       "0  {'neg': 0.0, 'neu': 0.797, 'pos': 0.203, 'comp...    0.4215  0.000  0.797   \n",
       "1  {'neg': 0.0, 'neu': 0.242, 'pos': 0.758, 'comp...    0.9571  0.000  0.242   \n",
       "2  {'neg': 0.0, 'neu': 0.558, 'pos': 0.442, 'comp...    0.8834  0.000  0.558   \n",
       "3  {'neg': 0.108, 'neu': 0.404, 'pos': 0.489, 'co...    0.8173  0.108  0.404   \n",
       "4  {'neg': 0.0, 'neu': 0.748, 'pos': 0.252, 'comp...    0.5719  0.000  0.748   \n",
       "\n",
       "     pos  \n",
       "0  0.203  \n",
       "1  0.758  \n",
       "2  0.442  \n",
       "3  0.489  \n",
       "4  0.252  "
      ]
     },
     "execution_count": 253,
     "metadata": {},
     "output_type": "execute_result"
    }
   ],
   "source": [
    "########### to define the infrequent words and apply to review ################################\n",
    "\n",
    "data[\"tokenized_string\"] = data[\"tokenized_review\"].apply(lambda x: \" \".join([item for item in x if len(item)>2]))\n",
    "data.head()"
   ]
  },
  {
   "cell_type": "code",
   "execution_count": 254,
   "metadata": {
    "id": "vEpa9YP0YVnz"
   },
   "outputs": [
    {
     "data": {
      "text/html": [
       "<div>\n",
       "<style scoped>\n",
       "    .dataframe tbody tr th:only-of-type {\n",
       "        vertical-align: middle;\n",
       "    }\n",
       "\n",
       "    .dataframe tbody tr th {\n",
       "        vertical-align: top;\n",
       "    }\n",
       "\n",
       "    .dataframe thead th {\n",
       "        text-align: right;\n",
       "    }\n",
       "</style>\n",
       "<table border=\"1\" class=\"dataframe\">\n",
       "  <thead>\n",
       "    <tr style=\"text-align: right;\">\n",
       "      <th></th>\n",
       "      <th>id</th>\n",
       "      <th>reviewed_date</th>\n",
       "      <th>location</th>\n",
       "      <th>hotel_restaurant_name</th>\n",
       "      <th>review</th>\n",
       "      <th>tokenized_review</th>\n",
       "      <th>tokenized_string</th>\n",
       "      <th>tokenized_string_lemma</th>\n",
       "      <th>token_polarity_review</th>\n",
       "      <th>compound</th>\n",
       "      <th>neg</th>\n",
       "      <th>neu</th>\n",
       "      <th>pos</th>\n",
       "    </tr>\n",
       "  </thead>\n",
       "  <tbody>\n",
       "    <tr>\n",
       "      <th>0</th>\n",
       "      <td>rn581181959</td>\n",
       "      <td>Reviewed yesterday</td>\n",
       "      <td>Patong</td>\n",
       "      <td>3 Spices Restaurant</td>\n",
       "      <td>the food was average my other half ask for som...</td>\n",
       "      <td>[the, food, was, average, my, other, half, ask...</td>\n",
       "      <td>the food was average other half ask for someth...</td>\n",
       "      <td>the food was average other half ask for someth...</td>\n",
       "      <td>{'neg': 0.0, 'neu': 0.797, 'pos': 0.203, 'comp...</td>\n",
       "      <td>0.4215</td>\n",
       "      <td>0.000</td>\n",
       "      <td>0.797</td>\n",
       "      <td>0.203</td>\n",
       "    </tr>\n",
       "    <tr>\n",
       "      <th>1</th>\n",
       "      <td>rn580277719</td>\n",
       "      <td>Reviewed 6 days ago</td>\n",
       "      <td>Patong</td>\n",
       "      <td>3 Spices Restaurant</td>\n",
       "      <td>nice meal, cocktails were not great but standa...</td>\n",
       "      <td>[nice, meal, cocktails, were, not, great, but,...</td>\n",
       "      <td>nice meal cocktails were not great but standar...</td>\n",
       "      <td>nice meal cocktails were not great but standar...</td>\n",
       "      <td>{'neg': 0.0, 'neu': 0.242, 'pos': 0.758, 'comp...</td>\n",
       "      <td>0.9571</td>\n",
       "      <td>0.000</td>\n",
       "      <td>0.242</td>\n",
       "      <td>0.758</td>\n",
       "    </tr>\n",
       "    <tr>\n",
       "      <th>2</th>\n",
       "      <td>rn574824190</td>\n",
       "      <td>Reviewed 4 weeks ago</td>\n",
       "      <td>Patong</td>\n",
       "      <td>3 Spices Restaurant</td>\n",
       "      <td>we tried a lot of different thai resturants du...</td>\n",
       "      <td>[we, tried, a, lot, of, different, thai, restu...</td>\n",
       "      <td>tried lot different thai resturants during our...</td>\n",
       "      <td>tried lot different thai resturants during our...</td>\n",
       "      <td>{'neg': 0.0, 'neu': 0.558, 'pos': 0.442, 'comp...</td>\n",
       "      <td>0.8834</td>\n",
       "      <td>0.000</td>\n",
       "      <td>0.558</td>\n",
       "      <td>0.442</td>\n",
       "    </tr>\n",
       "    <tr>\n",
       "      <th>3</th>\n",
       "      <td>rn570500865</td>\n",
       "      <td>Reviewed April 2, 2018</td>\n",
       "      <td>Patong</td>\n",
       "      <td>3 Spices Restaurant</td>\n",
       "      <td>the food is really nice, but the staff seem a ...</td>\n",
       "      <td>[the, food, is, really, nice, but, the, staff,...</td>\n",
       "      <td>the food really nice but the staff seem bit st...</td>\n",
       "      <td>the food really nice but the staff seem bit st...</td>\n",
       "      <td>{'neg': 0.108, 'neu': 0.404, 'pos': 0.489, 'co...</td>\n",
       "      <td>0.8173</td>\n",
       "      <td>0.108</td>\n",
       "      <td>0.404</td>\n",
       "      <td>0.489</td>\n",
       "    </tr>\n",
       "    <tr>\n",
       "      <th>4</th>\n",
       "      <td>rn569846380</td>\n",
       "      <td>Reviewed March 31, 2018</td>\n",
       "      <td>Patong</td>\n",
       "      <td>3 Spices Restaurant</td>\n",
       "      <td>probably one of the yummiest thai i have ever ...</td>\n",
       "      <td>[probably, one, of, the, yummiest, thai, i, ha...</td>\n",
       "      <td>probably one the yummiest thai have ever had f...</td>\n",
       "      <td>probably one the yummiest thai have ever had f...</td>\n",
       "      <td>{'neg': 0.0, 'neu': 0.748, 'pos': 0.252, 'comp...</td>\n",
       "      <td>0.5719</td>\n",
       "      <td>0.000</td>\n",
       "      <td>0.748</td>\n",
       "      <td>0.252</td>\n",
       "    </tr>\n",
       "  </tbody>\n",
       "</table>\n",
       "</div>"
      ],
      "text/plain": [
       "            id             reviewed_date location hotel_restaurant_name  \\\n",
       "0  rn581181959       Reviewed yesterday    Patong   3 Spices Restaurant   \n",
       "1  rn580277719      Reviewed 6 days ago    Patong   3 Spices Restaurant   \n",
       "2  rn574824190     Reviewed 4 weeks ago    Patong   3 Spices Restaurant   \n",
       "3  rn570500865   Reviewed April 2, 2018    Patong   3 Spices Restaurant   \n",
       "4  rn569846380  Reviewed March 31, 2018    Patong   3 Spices Restaurant   \n",
       "\n",
       "                                              review  \\\n",
       "0  the food was average my other half ask for som...   \n",
       "1  nice meal, cocktails were not great but standa...   \n",
       "2  we tried a lot of different thai resturants du...   \n",
       "3  the food is really nice, but the staff seem a ...   \n",
       "4  probably one of the yummiest thai i have ever ...   \n",
       "\n",
       "                                    tokenized_review  \\\n",
       "0  [the, food, was, average, my, other, half, ask...   \n",
       "1  [nice, meal, cocktails, were, not, great, but,...   \n",
       "2  [we, tried, a, lot, of, different, thai, restu...   \n",
       "3  [the, food, is, really, nice, but, the, staff,...   \n",
       "4  [probably, one, of, the, yummiest, thai, i, ha...   \n",
       "\n",
       "                                    tokenized_string  \\\n",
       "0  the food was average other half ask for someth...   \n",
       "1  nice meal cocktails were not great but standar...   \n",
       "2  tried lot different thai resturants during our...   \n",
       "3  the food really nice but the staff seem bit st...   \n",
       "4  probably one the yummiest thai have ever had f...   \n",
       "\n",
       "                              tokenized_string_lemma  \\\n",
       "0  the food was average other half ask for someth...   \n",
       "1  nice meal cocktails were not great but standar...   \n",
       "2  tried lot different thai resturants during our...   \n",
       "3  the food really nice but the staff seem bit st...   \n",
       "4  probably one the yummiest thai have ever had f...   \n",
       "\n",
       "                               token_polarity_review  compound    neg    neu  \\\n",
       "0  {'neg': 0.0, 'neu': 0.797, 'pos': 0.203, 'comp...    0.4215  0.000  0.797   \n",
       "1  {'neg': 0.0, 'neu': 0.242, 'pos': 0.758, 'comp...    0.9571  0.000  0.242   \n",
       "2  {'neg': 0.0, 'neu': 0.558, 'pos': 0.442, 'comp...    0.8834  0.000  0.558   \n",
       "3  {'neg': 0.108, 'neu': 0.404, 'pos': 0.489, 'co...    0.8173  0.108  0.404   \n",
       "4  {'neg': 0.0, 'neu': 0.748, 'pos': 0.252, 'comp...    0.5719  0.000  0.748   \n",
       "\n",
       "     pos  \n",
       "0  0.203  \n",
       "1  0.758  \n",
       "2  0.442  \n",
       "3  0.489  \n",
       "4  0.252  "
      ]
     },
     "execution_count": 254,
     "metadata": {},
     "output_type": "execute_result"
    }
   ],
   "source": [
    "############## use WordNetLemmatizer to lemmatise reviews ###########################\n",
    "\n",
    "from nltk.stem import WordNetLemmatizer \n",
    "stemmer = WordNetLemmatizer()\n",
    "data[\"tokenized_string_lemma\"] = data[\"tokenized_string\"].apply(stemmer.lemmatize)\n",
    "data.head()"
   ]
  },
  {
   "cell_type": "code",
   "execution_count": 255,
   "metadata": {
    "id": "jh3k_RMNyDDq"
   },
   "outputs": [],
   "source": [
    "############## defining word lemma to identify most frequently used words ###############\n",
    "\n",
    "words = nltk.word_tokenize(word_lemma)\n",
    "frequency_distribution = FreqDist(words)\n",
    "fd = frequency_distribution.most_common(20)"
   ]
  },
  {
   "cell_type": "code",
   "execution_count": 256,
   "metadata": {
    "id": "bLcq91wfEprf"
   },
   "outputs": [
    {
     "data": {
      "text/plain": [
       "<AxesSubplot:ylabel='Count'>"
      ]
     },
     "execution_count": 256,
     "metadata": {},
     "output_type": "execute_result"
    },
    {
     "data": {
      "image/png": "[encoded data removed]",
      "text/plain": [
       "<Figure size 432x288 with 1 Axes>"
      ]
     },
     "metadata": {
      "needs_background": "light"
     },
     "output_type": "display_data"
    }
   ],
   "source": [
    "########### visualise the dount of the most frequently used words  ################\n",
    "\n",
    "top_20_words = pd.Series(dict(fd))\n",
    "sns.histplot(x = top_20_words, color =\"green\")"
   ]
  },
  {
   "cell_type": "code",
   "execution_count": 258,
   "metadata": {
    "id": "KVuA-XDWCxgq"
   },
   "outputs": [],
   "source": [
    "########### defining VADER for sentiment analysis  ##############################\n",
    "\n",
    "from nltk.sentiment.vader import SentimentIntensityAnalyzer\n",
    "sentimentt = SentimentIntensityAnalyzer()\n",
    "from nltk.sentiment.vader import SentimentIntensityAnalyzer\n",
    "sentiment = SentimentIntensityAnalyzer()"
   ]
  },
  {
   "cell_type": "code",
   "execution_count": 257,
   "metadata": {
    "id": "pGvoIY27C3aA"
   },
   "outputs": [
    {
     "data": {
      "text/plain": [
       "count                                                  2949\n",
       "unique                                                 2370\n",
       "top       {'neg': 0.0, 'neu': 1.0, 'pos': 0.0, 'compound...\n",
       "freq                                                     43\n",
       "Name: token_polarity_review, dtype: object"
      ]
     },
     "execution_count": 257,
     "metadata": {},
     "output_type": "execute_result"
    }
   ],
   "source": [
    "######### applying sentiment analyser   ########################################\n",
    "\n",
    "data['token_polarity_review'] = data['tokenized_string_lemma'].apply(lambda x: sentimentt.polarity_scores(x))\n",
    "data['token_polarity_review'].describe()"
   ]
  },
  {
   "cell_type": "code",
   "execution_count": 264,
   "metadata": {
    "colab": {
     "base_uri": "https://localhost:8080/"
    },
    "id": "IOQo4D9eM7jR",
    "outputId": "c4989e1d-7622-498a-e490-2b9442ccdb9e"
   },
   "outputs": [
    {
     "name": "stdout",
     "output_type": "stream",
     "text": [
      "0       {'neg': 0.0, 'neu': 0.856, 'pos': 0.144, 'comp...\n",
      "1       {'neg': 0.069, 'neu': 0.356, 'pos': 0.574, 'co...\n",
      "2       {'neg': 0.0, 'neu': 0.708, 'pos': 0.292, 'comp...\n",
      "3       {'neg': 0.09, 'neu': 0.553, 'pos': 0.357, 'com...\n",
      "4       {'neg': 0.0, 'neu': 0.84, 'pos': 0.16, 'compou...\n",
      "                              ...                        \n",
      "2944    {'neg': 0.085, 'neu': 0.812, 'pos': 0.103, 'co...\n",
      "2945    {'neg': 0.0, 'neu': 0.815, 'pos': 0.185, 'comp...\n",
      "2946    {'neg': 0.062, 'neu': 0.811, 'pos': 0.127, 'co...\n",
      "2947    {'neg': 0.357, 'neu': 0.566, 'pos': 0.077, 'co...\n",
      "2948    {'neg': 0.0, 'neu': 0.822, 'pos': 0.178, 'comp...\n",
      "Name: token_polarity_review, Length: 2949, dtype: object\n",
      "<class 'pandas.core.series.Series'>\n",
      "{'neg': 0.0, 'neu': 1.0, 'pos': 0.0, 'compound': 0.0}\n"
     ]
    }
   ],
   "source": [
    "############### to print sentiment analysis polarity and score ########################\n",
    "\n",
    "print(data['token_polarity_review'])\n",
    "print(type(data['token_polarity_review']))\n",
    "print(sentiment.polarity_scores(\"data\"))\n"
   ]
  },
  {
   "cell_type": "code",
   "execution_count": 265,
   "metadata": {
    "id": "Keb5SmBPEP87"
   },
   "outputs": [
    {
     "data": {
      "text/html": [
       "<div>\n",
       "<style scoped>\n",
       "    .dataframe tbody tr th:only-of-type {\n",
       "        vertical-align: middle;\n",
       "    }\n",
       "\n",
       "    .dataframe tbody tr th {\n",
       "        vertical-align: top;\n",
       "    }\n",
       "\n",
       "    .dataframe thead th {\n",
       "        text-align: right;\n",
       "    }\n",
       "</style>\n",
       "<table border=\"1\" class=\"dataframe\">\n",
       "  <thead>\n",
       "    <tr style=\"text-align: right;\">\n",
       "      <th></th>\n",
       "      <th>id</th>\n",
       "      <th>reviewed_date</th>\n",
       "      <th>location</th>\n",
       "      <th>hotel_restaurant_name</th>\n",
       "      <th>review</th>\n",
       "      <th>tokenized_review</th>\n",
       "      <th>tokenized_string</th>\n",
       "      <th>tokenized_string_lemma</th>\n",
       "      <th>token_polarity_review</th>\n",
       "      <th>compound</th>\n",
       "      <th>neg</th>\n",
       "      <th>neu</th>\n",
       "      <th>pos</th>\n",
       "    </tr>\n",
       "  </thead>\n",
       "  <tbody>\n",
       "    <tr>\n",
       "      <th>0</th>\n",
       "      <td>rn581181959</td>\n",
       "      <td>Reviewed yesterday</td>\n",
       "      <td>Patong</td>\n",
       "      <td>3 Spices Restaurant</td>\n",
       "      <td>the food was average my other half ask for som...</td>\n",
       "      <td>[the, food, was, average, my, other, half, ask...</td>\n",
       "      <td>the food was average other half ask for someth...</td>\n",
       "      <td>the food was average other half ask for someth...</td>\n",
       "      <td>{'neg': 0.0, 'neu': 0.856, 'pos': 0.144, 'comp...</td>\n",
       "      <td>0.5719</td>\n",
       "      <td>0.000</td>\n",
       "      <td>0.856</td>\n",
       "      <td>0.144</td>\n",
       "    </tr>\n",
       "    <tr>\n",
       "      <th>1</th>\n",
       "      <td>rn580277719</td>\n",
       "      <td>Reviewed 6 days ago</td>\n",
       "      <td>Patong</td>\n",
       "      <td>3 Spices Restaurant</td>\n",
       "      <td>nice meal, cocktails were not great but standa...</td>\n",
       "      <td>[nice, meal, cocktails, were, not, great, but,...</td>\n",
       "      <td>nice meal cocktails were not great but standar...</td>\n",
       "      <td>nice meal cocktails were not great but standar...</td>\n",
       "      <td>{'neg': 0.069, 'neu': 0.356, 'pos': 0.574, 'co...</td>\n",
       "      <td>0.9486</td>\n",
       "      <td>0.069</td>\n",
       "      <td>0.356</td>\n",
       "      <td>0.574</td>\n",
       "    </tr>\n",
       "    <tr>\n",
       "      <th>2</th>\n",
       "      <td>rn574824190</td>\n",
       "      <td>Reviewed 4 weeks ago</td>\n",
       "      <td>Patong</td>\n",
       "      <td>3 Spices Restaurant</td>\n",
       "      <td>we tried a lot of different thai resturants du...</td>\n",
       "      <td>[we, tried, a, lot, of, different, thai, restu...</td>\n",
       "      <td>tried lot different thai resturants during our...</td>\n",
       "      <td>tried lot different thai resturants during our...</td>\n",
       "      <td>{'neg': 0.0, 'neu': 0.708, 'pos': 0.292, 'comp...</td>\n",
       "      <td>0.8834</td>\n",
       "      <td>0.000</td>\n",
       "      <td>0.708</td>\n",
       "      <td>0.292</td>\n",
       "    </tr>\n",
       "    <tr>\n",
       "      <th>3</th>\n",
       "      <td>rn570500865</td>\n",
       "      <td>Reviewed April 2, 2018</td>\n",
       "      <td>Patong</td>\n",
       "      <td>3 Spices Restaurant</td>\n",
       "      <td>the food is really nice, but the staff seem a ...</td>\n",
       "      <td>[the, food, is, really, nice, but, the, staff,...</td>\n",
       "      <td>the food really nice but the staff seem bit st...</td>\n",
       "      <td>the food really nice but the staff seem bit st...</td>\n",
       "      <td>{'neg': 0.09, 'neu': 0.553, 'pos': 0.357, 'com...</td>\n",
       "      <td>0.8460</td>\n",
       "      <td>0.090</td>\n",
       "      <td>0.553</td>\n",
       "      <td>0.357</td>\n",
       "    </tr>\n",
       "    <tr>\n",
       "      <th>4</th>\n",
       "      <td>rn569846380</td>\n",
       "      <td>Reviewed March 31, 2018</td>\n",
       "      <td>Patong</td>\n",
       "      <td>3 Spices Restaurant</td>\n",
       "      <td>probably one of the yummiest thai i have ever ...</td>\n",
       "      <td>[probably, one, of, the, yummiest, thai, i, ha...</td>\n",
       "      <td>probably one the yummiest thai have ever had f...</td>\n",
       "      <td>probably one the yummiest thai have ever had f...</td>\n",
       "      <td>{'neg': 0.0, 'neu': 0.84, 'pos': 0.16, 'compou...</td>\n",
       "      <td>0.6115</td>\n",
       "      <td>0.000</td>\n",
       "      <td>0.840</td>\n",
       "      <td>0.160</td>\n",
       "    </tr>\n",
       "  </tbody>\n",
       "</table>\n",
       "</div>"
      ],
      "text/plain": [
       "            id             reviewed_date location hotel_restaurant_name  \\\n",
       "0  rn581181959       Reviewed yesterday    Patong   3 Spices Restaurant   \n",
       "1  rn580277719      Reviewed 6 days ago    Patong   3 Spices Restaurant   \n",
       "2  rn574824190     Reviewed 4 weeks ago    Patong   3 Spices Restaurant   \n",
       "3  rn570500865   Reviewed April 2, 2018    Patong   3 Spices Restaurant   \n",
       "4  rn569846380  Reviewed March 31, 2018    Patong   3 Spices Restaurant   \n",
       "\n",
       "                                              review  \\\n",
       "0  the food was average my other half ask for som...   \n",
       "1  nice meal, cocktails were not great but standa...   \n",
       "2  we tried a lot of different thai resturants du...   \n",
       "3  the food is really nice, but the staff seem a ...   \n",
       "4  probably one of the yummiest thai i have ever ...   \n",
       "\n",
       "                                    tokenized_review  \\\n",
       "0  [the, food, was, average, my, other, half, ask...   \n",
       "1  [nice, meal, cocktails, were, not, great, but,...   \n",
       "2  [we, tried, a, lot, of, different, thai, restu...   \n",
       "3  [the, food, is, really, nice, but, the, staff,...   \n",
       "4  [probably, one, of, the, yummiest, thai, i, ha...   \n",
       "\n",
       "                                    tokenized_string  \\\n",
       "0  the food was average other half ask for someth...   \n",
       "1  nice meal cocktails were not great but standar...   \n",
       "2  tried lot different thai resturants during our...   \n",
       "3  the food really nice but the staff seem bit st...   \n",
       "4  probably one the yummiest thai have ever had f...   \n",
       "\n",
       "                              tokenized_string_lemma  \\\n",
       "0  the food was average other half ask for someth...   \n",
       "1  nice meal cocktails were not great but standar...   \n",
       "2  tried lot different thai resturants during our...   \n",
       "3  the food really nice but the staff seem bit st...   \n",
       "4  probably one the yummiest thai have ever had f...   \n",
       "\n",
       "                               token_polarity_review  compound    neg    neu  \\\n",
       "0  {'neg': 0.0, 'neu': 0.856, 'pos': 0.144, 'comp...    0.5719  0.000  0.856   \n",
       "1  {'neg': 0.069, 'neu': 0.356, 'pos': 0.574, 'co...    0.9486  0.069  0.356   \n",
       "2  {'neg': 0.0, 'neu': 0.708, 'pos': 0.292, 'comp...    0.8834  0.000  0.708   \n",
       "3  {'neg': 0.09, 'neu': 0.553, 'pos': 0.357, 'com...    0.8460  0.090  0.553   \n",
       "4  {'neg': 0.0, 'neu': 0.84, 'pos': 0.16, 'compou...    0.6115  0.000  0.840   \n",
       "\n",
       "     pos  \n",
       "0  0.144  \n",
       "1  0.574  \n",
       "2  0.292  \n",
       "3  0.357  \n",
       "4  0.160  "
      ]
     },
     "execution_count": 265,
     "metadata": {},
     "output_type": "execute_result"
    }
   ],
   "source": [
    "######## creating columns from the polarity dictionary    ################\n",
    "\n",
    "data[\"compound\"] = [sentiment.polarity_scores(review)[\"compound\"] for review in data[\"tokenized_string_lemma\"]]\n",
    "data[\"neg\"] = [sentiment.polarity_scores(review)[\"neg\"] for review in data[\"tokenized_string_lemma\"]]\n",
    "data[\"neu\"] = [sentiment.polarity_scores(review)[\"neu\"] for review in data[\"tokenized_string_lemma\"]]\n",
    "data[\"pos\"] = [sentiment.polarity_scores(review)[\"pos\"] for review in data[\"tokenized_string_lemma\"]]\n",
    "data.head()"
   ]
  },
  {
   "cell_type": "code",
   "execution_count": 262,
   "metadata": {
    "colab": {
     "base_uri": "https://localhost:8080/",
     "height": 704
    },
    "id": "-edP9csDFRdy",
    "outputId": "64f42da3-c963-4424-e488-c01a7010d1cf"
   },
   "outputs": [
    {
     "data": {
      "text/html": [
       "<div>\n",
       "<style scoped>\n",
       "    .dataframe tbody tr th:only-of-type {\n",
       "        vertical-align: middle;\n",
       "    }\n",
       "\n",
       "    .dataframe tbody tr th {\n",
       "        vertical-align: top;\n",
       "    }\n",
       "\n",
       "    .dataframe thead th {\n",
       "        text-align: right;\n",
       "    }\n",
       "</style>\n",
       "<table border=\"1\" class=\"dataframe\">\n",
       "  <thead>\n",
       "    <tr style=\"text-align: right;\">\n",
       "      <th></th>\n",
       "      <th>id</th>\n",
       "      <th>reviewed_date</th>\n",
       "      <th>location</th>\n",
       "      <th>hotel_restaurant_name</th>\n",
       "      <th>review</th>\n",
       "      <th>tokenized_review</th>\n",
       "      <th>tokenized_string</th>\n",
       "      <th>tokenized_string_lemma</th>\n",
       "      <th>token_polarity_review</th>\n",
       "      <th>compound</th>\n",
       "      <th>neg</th>\n",
       "      <th>neu</th>\n",
       "      <th>pos</th>\n",
       "    </tr>\n",
       "  </thead>\n",
       "  <tbody>\n",
       "    <tr>\n",
       "      <th>0</th>\n",
       "      <td>rn581181959</td>\n",
       "      <td>Reviewed yesterday</td>\n",
       "      <td>Patong</td>\n",
       "      <td>3 Spices Restaurant</td>\n",
       "      <td>the food was average my other half ask for som...</td>\n",
       "      <td>[the, food, was, average, my, other, half, ask...</td>\n",
       "      <td>the food was average other half ask for someth...</td>\n",
       "      <td>the food was average other half ask for someth...</td>\n",
       "      <td>{'neg': 0.0, 'neu': 0.856, 'pos': 0.144, 'comp...</td>\n",
       "      <td>0.5719</td>\n",
       "      <td>0.000</td>\n",
       "      <td>0.856</td>\n",
       "      <td>0.144</td>\n",
       "    </tr>\n",
       "    <tr>\n",
       "      <th>1</th>\n",
       "      <td>rn580277719</td>\n",
       "      <td>Reviewed 6 days ago</td>\n",
       "      <td>Patong</td>\n",
       "      <td>3 Spices Restaurant</td>\n",
       "      <td>nice meal, cocktails were not great but standa...</td>\n",
       "      <td>[nice, meal, cocktails, were, not, great, but,...</td>\n",
       "      <td>nice meal cocktails were not great but standar...</td>\n",
       "      <td>nice meal cocktails were not great but standar...</td>\n",
       "      <td>{'neg': 0.069, 'neu': 0.356, 'pos': 0.574, 'co...</td>\n",
       "      <td>0.9486</td>\n",
       "      <td>0.069</td>\n",
       "      <td>0.356</td>\n",
       "      <td>0.574</td>\n",
       "    </tr>\n",
       "    <tr>\n",
       "      <th>2</th>\n",
       "      <td>rn574824190</td>\n",
       "      <td>Reviewed 4 weeks ago</td>\n",
       "      <td>Patong</td>\n",
       "      <td>3 Spices Restaurant</td>\n",
       "      <td>we tried a lot of different thai resturants du...</td>\n",
       "      <td>[we, tried, a, lot, of, different, thai, restu...</td>\n",
       "      <td>tried lot different thai resturants during our...</td>\n",
       "      <td>tried lot different thai resturants during our...</td>\n",
       "      <td>{'neg': 0.0, 'neu': 0.708, 'pos': 0.292, 'comp...</td>\n",
       "      <td>0.8834</td>\n",
       "      <td>0.000</td>\n",
       "      <td>0.708</td>\n",
       "      <td>0.292</td>\n",
       "    </tr>\n",
       "    <tr>\n",
       "      <th>3</th>\n",
       "      <td>rn570500865</td>\n",
       "      <td>Reviewed April 2, 2018</td>\n",
       "      <td>Patong</td>\n",
       "      <td>3 Spices Restaurant</td>\n",
       "      <td>the food is really nice, but the staff seem a ...</td>\n",
       "      <td>[the, food, is, really, nice, but, the, staff,...</td>\n",
       "      <td>the food really nice but the staff seem bit st...</td>\n",
       "      <td>the food really nice but the staff seem bit st...</td>\n",
       "      <td>{'neg': 0.09, 'neu': 0.553, 'pos': 0.357, 'com...</td>\n",
       "      <td>0.8460</td>\n",
       "      <td>0.090</td>\n",
       "      <td>0.553</td>\n",
       "      <td>0.357</td>\n",
       "    </tr>\n",
       "    <tr>\n",
       "      <th>4</th>\n",
       "      <td>rn569846380</td>\n",
       "      <td>Reviewed March 31, 2018</td>\n",
       "      <td>Patong</td>\n",
       "      <td>3 Spices Restaurant</td>\n",
       "      <td>probably one of the yummiest thai i have ever ...</td>\n",
       "      <td>[probably, one, of, the, yummiest, thai, i, ha...</td>\n",
       "      <td>probably one the yummiest thai have ever had f...</td>\n",
       "      <td>probably one the yummiest thai have ever had f...</td>\n",
       "      <td>{'neg': 0.0, 'neu': 0.84, 'pos': 0.16, 'compou...</td>\n",
       "      <td>0.6115</td>\n",
       "      <td>0.000</td>\n",
       "      <td>0.840</td>\n",
       "      <td>0.160</td>\n",
       "    </tr>\n",
       "  </tbody>\n",
       "</table>\n",
       "</div>"
      ],
      "text/plain": [
       "            id             reviewed_date location hotel_restaurant_name  \\\n",
       "0  rn581181959       Reviewed yesterday    Patong   3 Spices Restaurant   \n",
       "1  rn580277719      Reviewed 6 days ago    Patong   3 Spices Restaurant   \n",
       "2  rn574824190     Reviewed 4 weeks ago    Patong   3 Spices Restaurant   \n",
       "3  rn570500865   Reviewed April 2, 2018    Patong   3 Spices Restaurant   \n",
       "4  rn569846380  Reviewed March 31, 2018    Patong   3 Spices Restaurant   \n",
       "\n",
       "                                              review  \\\n",
       "0  the food was average my other half ask for som...   \n",
       "1  nice meal, cocktails were not great but standa...   \n",
       "2  we tried a lot of different thai resturants du...   \n",
       "3  the food is really nice, but the staff seem a ...   \n",
       "4  probably one of the yummiest thai i have ever ...   \n",
       "\n",
       "                                    tokenized_review  \\\n",
       "0  [the, food, was, average, my, other, half, ask...   \n",
       "1  [nice, meal, cocktails, were, not, great, but,...   \n",
       "2  [we, tried, a, lot, of, different, thai, restu...   \n",
       "3  [the, food, is, really, nice, but, the, staff,...   \n",
       "4  [probably, one, of, the, yummiest, thai, i, ha...   \n",
       "\n",
       "                                    tokenized_string  \\\n",
       "0  the food was average other half ask for someth...   \n",
       "1  nice meal cocktails were not great but standar...   \n",
       "2  tried lot different thai resturants during our...   \n",
       "3  the food really nice but the staff seem bit st...   \n",
       "4  probably one the yummiest thai have ever had f...   \n",
       "\n",
       "                              tokenized_string_lemma  \\\n",
       "0  the food was average other half ask for someth...   \n",
       "1  nice meal cocktails were not great but standar...   \n",
       "2  tried lot different thai resturants during our...   \n",
       "3  the food really nice but the staff seem bit st...   \n",
       "4  probably one the yummiest thai have ever had f...   \n",
       "\n",
       "                               token_polarity_review  compound    neg    neu  \\\n",
       "0  {'neg': 0.0, 'neu': 0.856, 'pos': 0.144, 'comp...    0.5719  0.000  0.856   \n",
       "1  {'neg': 0.069, 'neu': 0.356, 'pos': 0.574, 'co...    0.9486  0.069  0.356   \n",
       "2  {'neg': 0.0, 'neu': 0.708, 'pos': 0.292, 'comp...    0.8834  0.000  0.708   \n",
       "3  {'neg': 0.09, 'neu': 0.553, 'pos': 0.357, 'com...    0.8460  0.090  0.553   \n",
       "4  {'neg': 0.0, 'neu': 0.84, 'pos': 0.16, 'compou...    0.6115  0.000  0.840   \n",
       "\n",
       "     pos  \n",
       "0  0.144  \n",
       "1  0.574  \n",
       "2  0.292  \n",
       "3  0.357  \n",
       "4  0.160  "
      ]
     },
     "execution_count": 262,
     "metadata": {},
     "output_type": "execute_result"
    }
   ],
   "source": []
  },
  {
   "cell_type": "code",
   "execution_count": 266,
   "metadata": {
    "colab": {
     "base_uri": "https://localhost:8080/",
     "height": 297
    },
    "id": "-p8jdpsXT_RB",
    "outputId": "6dd82140-69e4-410b-dc80-c8d104f0cb63"
   },
   "outputs": [
    {
     "data": {
      "text/plain": [
       "<AxesSubplot:xlabel='compound', ylabel='Count'>"
      ]
     },
     "execution_count": 266,
     "metadata": {},
     "output_type": "execute_result"
    },
    {
     "data": {
      "image/png": "[encoded data removed]",
      "text/plain": [
       "<Figure size 432x288 with 1 Axes>"
      ]
     },
     "metadata": {
      "needs_background": "light"
     },
     "output_type": "display_data"
    }
   ],
   "source": [
    "############## visualising the count of compound polarity #####################\n",
    "\n",
    "sns.histplot(data[\"compound\"])"
   ]
  },
  {
   "cell_type": "code",
   "execution_count": 243,
   "metadata": {
    "colab": {
     "base_uri": "https://localhost:8080/",
     "height": 301
    },
    "id": "czd41oSIbP5l",
    "outputId": "6eee3e36-eb4c-475a-8a0b-e075e1661e9d"
   },
   "outputs": [
    {
     "data": {
      "text/plain": [
       "<AxesSubplot:xlabel='neg', ylabel='Count'>"
      ]
     },
     "execution_count": 243,
     "metadata": {},
     "output_type": "execute_result"
    },
    {
     "data": {
      "image/png": "[encoded data removed]",
      "text/plain": [
       "<Figure size 432x288 with 1 Axes>"
      ]
     },
     "metadata": {
      "needs_background": "light"
     },
     "output_type": "display_data"
    }
   ],
   "source": [
    "############## visualising the count of negative polarity #####################\n",
    "\n",
    "sns.histplot(data[\"neg\"])"
   ]
  },
  {
   "cell_type": "code",
   "execution_count": 267,
   "metadata": {
    "colab": {
     "base_uri": "https://localhost:8080/",
     "height": 297
    },
    "id": "vlc0Cf1bf-ZP",
    "outputId": "aec2830b-2d21-43a8-dad2-d87c4a8bef68"
   },
   "outputs": [
    {
     "data": {
      "text/plain": [
       "<AxesSubplot:xlabel='neu', ylabel='Count'>"
      ]
     },
     "execution_count": 267,
     "metadata": {},
     "output_type": "execute_result"
    },
    {
     "data": {
      "image/png": "[encoded data removed]",
      "text/plain": [
       "<Figure size 432x288 with 1 Axes>"
      ]
     },
     "metadata": {
      "needs_background": "light"
     },
     "output_type": "display_data"
    }
   ],
   "source": [
    "############## visualising the count of neutral polarity #####################\n",
    "\n",
    "sns.histplot(data[\"neu\"])"
   ]
  },
  {
   "cell_type": "code",
   "execution_count": 268,
   "metadata": {
    "colab": {
     "base_uri": "https://localhost:8080/",
     "height": 297
    },
    "id": "XXEZlwg7f-s4",
    "outputId": "ea2a0382-ef55-4363-d79f-19e565b05234"
   },
   "outputs": [
    {
     "data": {
      "text/plain": [
       "<AxesSubplot:xlabel='pos', ylabel='Count'>"
      ]
     },
     "execution_count": 268,
     "metadata": {},
     "output_type": "execute_result"
    },
    {
     "data": {
      "image/png": "[encoded data removed]",
      "text/plain": [
       "<Figure size 432x288 with 1 Axes>"
      ]
     },
     "metadata": {
      "needs_background": "light"
     },
     "output_type": "display_data"
    }
   ],
   "source": [
    "############## visualising the count of positive polarity #####################\n",
    "\n",
    "sns.histplot(data[\"pos\"])"
   ]
  },
  {
   "cell_type": "code",
   "execution_count": 246,
   "metadata": {
    "colab": {
     "base_uri": "https://localhost:8080/"
    },
    "id": "K5XLs9fRgcWN",
    "outputId": "9262b37f-331c-4e76-e7ad-711c694eea09"
   },
   "outputs": [
    {
     "data": {
      "text/plain": [
       "hotel_restaurant_name\n",
       "3 Spices Restaurant                             6\n",
       "99 Seafood                                     19\n",
       "Acqua Restaurant                                4\n",
       "Ali Baba Restaurant                            33\n",
       "Ao Chalong Yacht Club Restaurant                3\n",
       "Arabia Restaurant                               5\n",
       "Austrian Garden Restaurant                      3\n",
       "BYD Lofts Restaurant Bistro & Bar               6\n",
       "Baan Rim Pa Patong                              7\n",
       "Badsha Indian Food                             17\n",
       "Bai Toey                                        7\n",
       "Baia Del Sole                                   0\n",
       "Baluchi Restaurant                              9\n",
       "Baoli                                          18\n",
       "Belgian Beer Cafe Graceland                     8\n",
       "Bite in                                        22\n",
       "Blue Horizon - Top Quality Thai Food            7\n",
       "Bondi Aussie Bar & Grill Phuket                16\n",
       "Briley Chicken Rice                            10\n",
       "Bubbles Restaurant                              3\n",
       "Bucintoro Pizzeria-Ristorante                   3\n",
       "Cafe 101 Bar & Restaurant                      13\n",
       "Cafe Siam Breakfast Cafe                        6\n",
       "Charm Thai Restaurant at Holiday Inn Resort    10\n",
       "Chez Nicolas                                   20\n",
       "Climax on Bangla                                3\n",
       "Coyote                                          7\n",
       "Da Mario                                       25\n",
       "Da Maurizio Beach Side                          7\n",
       "Name: compound, dtype: int64"
      ]
     },
     "execution_count": 246,
     "metadata": {},
     "output_type": "execute_result"
    }
   ],
   "source": [
    "(data[\"compound\"] <=0).groupby(data[\"hotel_restaurant_name\"]).sum()"
   ]
  },
  {
   "cell_type": "code",
   "execution_count": 269,
   "metadata": {},
   "outputs": [
    {
     "data": {
      "text/plain": [
       "(-0.5, 599.5, 399.5, -0.5)"
      ]
     },
     "execution_count": 269,
     "metadata": {},
     "output_type": "execute_result"
    },
    {
     "data": {
      "image/png": "[encoded data removed]",
      "text/plain": [
       "<Figure size 576x576 with 1 Axes>"
      ]
     },
     "metadata": {
      "needs_background": "light"
     },
     "output_type": "display_data"
    }
   ],
   "source": [
    "############ creating word cloud of the most relevant words #################\n",
    "\n",
    "word_lemma = \" \".join([word for word in data[\"tokenized_string_lemma\"]])\n",
    "wordcloud = WordCloud(width = 600, height = 400, random_state = 2, \n",
    "                      max_font_size = 100).generate(word_lemma)\n",
    "plt.figure(figsize = (8,8))\n",
    "plt.imshow(wordcloud, interpolation = \"bilinear\")\n",
    "plt.axis(False)"
   ]
  },
  {
   "cell_type": "code",
   "execution_count": null,
   "metadata": {},
   "outputs": [],
   "source": []
  }
 ],
 "metadata": {
  "colab": {
   "provenance": []
  },
  "kernelspec": {
   "display_name": "Python 3 (ipykernel)",
   "language": "python",
   "name": "python3"
  },
  "language_info": {
   "codemirror_mode": {
    "name": "ipython",
    "version": 3
   },
   "file_extension": ".py",
   "mimetype": "text/x-python",
   "name": "python",
   "nbconvert_exporter": "python",
   "pygments_lexer": "ipython3",
   "version": "3.9.7"
  }
 },
 "nbformat": 4,
 "nbformat_minor": 1
}
